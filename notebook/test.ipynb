{
 "cells": [
  {
   "cell_type": "code",
   "execution_count": 11,
   "metadata": {},
   "outputs": [
    {
     "name": "stdout",
     "output_type": "stream",
     "text": [
      "finstate_summary(017670) calling\n"
     ]
    },
    {
     "data": {
      "text/plain": [
       "'날짜,매출액,영업이익,영업이익(발표기준),세전계속사업이익,당기순이익,당기순이익(지배),당기순이익(비지배),자산총계,부채총계,자본총계,자본총계(지배),자본총계(비지배),자본금,영업활동현금흐름,투자활동현금흐름,재무활동현금흐름,CAPEX,FCF,이자발생부채,영업이익률,순이익률,ROE(%),ROA(%),부채비율,자본유보율,EPS(원),PER(배),BPS(원),PBR(배),현금DPS(원),현금배당수익률,현금배당성향(%),발행주식수(보통주)\\n2018-12-01,168740.0,12018.0,12018.0,39760.0,31320.0,31279.0,41.0,423691.0,200199.0,223492.0,224708.0,-1216.0,446.0,43326.0,-40477.0,-2383.0,27924.0,15402.0,100761.0,7.12,18.56,15.52,8.26,89.58,56140.21,7748.0,6.96,62532.0,0.86,2000.0,3.71,22.94,403728555.0\\n2019-12-01,177407.0,11082.0,11082.0,11610.0,8607.0,8887.0,-280.0,452024.0,223854.0,228169.0,229502.0,-1333.0,446.0,40350.0,-35816.0,-6867.0,33759.0,6591.0,119788.0,6.25,4.85,3.91,1.97,98.11,56328.7,2201.0,21.62,62760.0,0.76,2000.0,4.2,82.15,403728555.0\\n2020-12-01,160877.0,12486.0,12486.0,9052.0,15005.0,15044.0,-38.0,479070.0,235107.0,243962.0,237439.0,6523.0,446.0,58219.0,-42504.0,-14576.0,35578.0,22641.0,125800.0,7.76,9.33,6.44,3.22,96.37,58016.08,3726.0,12.77,66577.0,0.71,2000.0,4.2,47.53,403728555.0\\n2021-12-01,167486.0,13872.0,13872.0,17182.0,24190.0,24075.0,115.0,309113.0,185761.0,123351.0,115793.0,7558.0,305.0,50313.0,-34862.0,-20536.0,29159.0,21154.0,107670.0,8.28,14.44,13.63,6.14,150.59,79389.83,6841.0,8.46,53218.0,1.09,2660.0,4.59,29.78,218833144.0\\n2022-12-01,173050.0,16121.0,16121.0,12362.0,9478.0,9124.0,354.0,313083.0,191531.0,121552.0,113183.0,8369.0,305.0,51593.0,-28078.0,-13499.0,29083.0,22510.0,114837.0,9.32,5.48,7.97,3.05,157.57,79476.31,4169.0,11.37,51911.0,0.91,3320.0,7.0,79.33,218833144.0\\n2023-12-01,175445.0,17500.0,,14826.0,11288.0,10800.0,,307231.0,181955.0,125276.0,116333.0,,302.0,51404.0,-30727.0,-18918.0,26767.0,25672.0,,9.97,6.43,9.41,3.64,145.24,,4935.0,10.19,54775.0,0.92,3404.0,6.77,68.98,\\n2024-12-01,178892.0,18254.0,,15549.0,11930.0,11370.0,,307890.0,179415.0,128474.0,119630.0,,293.0,48110.0,-28608.0,-10634.0,25207.0,19368.0,,10.2,6.67,9.64,3.88,139.65,,5284.0,9.88,56196.0,0.93,3569.0,6.84,67.43,\\n2025-12-01,182184.0,19153.0,,16584.0,12728.0,12136.0,,312961.0,179494.0,133467.0,124441.0,,293.0,47870.0,-28840.0,-9325.0,25128.0,19227.0,,10.51,6.99,9.95,4.1,134.49,,5650.0,9.24,58456.0,0.89,3630.0,6.95,64.24,\\n'"
      ]
     },
     "execution_count": 11,
     "metadata": {},
     "output_type": "execute_result"
    }
   ],
   "source": [
    "import requests\n",
    "import re\n",
    "import io\n",
    "import pandas as pd\n",
    "\n",
    "def finstate_summary(code: str):\n",
    "    '''\n",
    "    요약 재무제표 데이터를 가져와 CSV 문자열을 반환합니다\n",
    "    :param code: 종목코드\n",
    "    '''\n",
    "    print(f'finstate_summary({code}) calling') # 호출 확인을 위한 print\n",
    "\n",
    "    # fin_type: 재무제표 종류 '0'=주재무제표, '1'=K-GAAP개별, '2'=K-GAAP연결, '3'=K-IFRS별도, '4'=K-IFRS연결\n",
    "    # freq: 기간: Y=년(기본), Q=분기, 'A'=연간분기 전체\n",
    "    fin_type, freq ='0', 'Y'\n",
    "\n",
    "    # encparam 읽어오기\n",
    "    url = 'https://navercomp.wisereport.co.kr/v2/company/c1010001.aspx?cmp_cd=005930'\n",
    "    html_text = requests.get(url).text\n",
    "\n",
    "    if not re.search(\"encparam: '(.*?)'\", html_text):\n",
    "        print('encparam not found') # encparam이 없는 경우\n",
    "        return None\n",
    "    encparam = re.findall (\"encparam: '(.*?)'\", html_text)[0]\n",
    "\n",
    "    url = f'https://navercomp.wisereport.co.kr/v2/company/ajax/cF1001.aspx?cmp_cd={code}&fin_typ={fin_type}&freq_typ={freq}&encparam={encparam}'\n",
    "    r = requests.get(url, headers={'Referer': url})\n",
    "    df_list = pd.read_html(io.StringIO(r.text), encoding='euc-kr')\n",
    "    df = df_list[1]\n",
    "    df.columns = [col[1] for col in df.columns]\n",
    "    df.set_index('주요재무정보', inplace=True)\n",
    "    df.columns = [re.sub('[^\\.\\d]', '', col) for col in df.columns]\n",
    "    df.columns = [pd.to_datetime(col, format='%Y%m', errors='coerce') for col in df.columns]\n",
    "    df = df.transpose()\n",
    "    df.index.name = '날짜'\n",
    "    return df.to_csv() ## CSV 문자열을 반환\n",
    "\n",
    "df = finstate_summary('017670') # SK텔레콤(017670)\n",
    "df\n"
   ]
  },
  {
   "cell_type": "code",
   "execution_count": 8,
   "metadata": {},
   "outputs": [
    {
     "name": "stdout",
     "output_type": "stream",
     "text": [
      "finstate_summary(017670) calling\n"
     ]
    },
    {
     "data": {
      "text/plain": [
       "'날짜,매출액,영업이익,영업이익(발표기준),세전계속사업이익,당기순이익,당기순이익(지배),당기순이익(비지배),자산총계,부채총계,자본총계,자본총계(지배),자본총계(비지배),자본금,영업활동현금흐름,투자활동현금흐름,재무활동현금흐름,CAPEX,FCF,이자발생부채,영업이익률,순이익률,ROE(%),ROA(%),부채비율,자본유보율,EPS(원),PER(배),BPS(원),PBR(배),현금DPS(원),현금배당수익률,현금배당성향(%),발행주식수(보통주)\\n2018-12-01,168740.0,12018.0,12018.0,39760.0,31320.0,31279.0,41.0,423691.0,200199.0,223492.0,224708.0,-1216.0,446.0,43326.0,-40477.0,-2383.0,27924.0,15402.0,100761.0,7.12,18.56,15.52,8.26,89.58,56140.21,7748.0,6.96,62532.0,0.86,2000.0,3.71,22.94,403728555.0\\n2019-12-01,177407.0,11082.0,11082.0,11610.0,8607.0,8887.0,-280.0,452024.0,223854.0,228169.0,229502.0,-1333.0,446.0,40350.0,-35816.0,-6867.0,33759.0,6591.0,119788.0,6.25,4.85,3.91,1.97,98.11,56328.7,2201.0,21.62,62760.0,0.76,2000.0,4.2,82.15,403728555.0\\n2020-12-01,160877.0,12486.0,12486.0,9052.0,15005.0,15044.0,-38.0,479070.0,235107.0,243962.0,237439.0,6523.0,446.0,58219.0,-42504.0,-14576.0,35578.0,22641.0,125800.0,7.76,9.33,6.44,3.22,96.37,58016.08,3726.0,12.77,66577.0,0.71,2000.0,4.2,47.53,403728555.0\\n2021-12-01,167486.0,13872.0,13872.0,17182.0,24190.0,24075.0,115.0,309113.0,185761.0,123351.0,115793.0,7558.0,305.0,50313.0,-34862.0,-20536.0,29159.0,21154.0,107670.0,8.28,14.44,13.63,6.14,150.59,79389.83,6841.0,8.46,53218.0,1.09,2660.0,4.59,29.78,218833144.0\\n2022-12-01,173050.0,16121.0,16121.0,12362.0,9478.0,9124.0,354.0,313083.0,191531.0,121552.0,113183.0,8369.0,305.0,51593.0,-28078.0,-13499.0,29083.0,22510.0,114837.0,9.32,5.48,7.97,3.05,157.57,79476.31,4169.0,11.37,51911.0,0.91,3320.0,7.0,79.33,218833144.0\\n2023-12-01,175445.0,17500.0,,14826.0,11288.0,10800.0,,307231.0,181955.0,125276.0,116333.0,,302.0,51404.0,-30727.0,-18918.0,26767.0,25672.0,,9.97,6.43,9.41,3.64,145.24,,4935.0,10.19,54775.0,0.92,3404.0,6.77,68.98,\\n2024-12-01,178892.0,18254.0,,15549.0,11930.0,11370.0,,307890.0,179415.0,128474.0,119630.0,,293.0,48110.0,-28608.0,-10634.0,25207.0,19368.0,,10.2,6.67,9.64,3.88,139.65,,5284.0,9.88,56196.0,0.93,3569.0,6.84,67.43,\\n2025-12-01,182184.0,19153.0,,16584.0,12728.0,12136.0,,312961.0,179494.0,133467.0,124441.0,,293.0,47870.0,-28840.0,-9325.0,25128.0,19227.0,,10.51,6.99,9.95,4.1,134.49,,5650.0,9.24,58456.0,0.89,3630.0,6.95,64.24,\\n'"
      ]
     },
     "execution_count": 8,
     "metadata": {},
     "output_type": "execute_result"
    }
   ],
   "source": [
    "df = finstate_summary('017670') # SK텔레콤(017670)\n",
    "df"
   ]
  },
  {
   "cell_type": "code",
   "execution_count": 12,
   "metadata": {},
   "outputs": [
    {
     "name": "stdout",
     "output_type": "stream",
     "text": [
      "stock_history(005930) calling\n"
     ]
    },
    {
     "ename": "ValueError",
     "evalue": "non convertible value <?xml version=\"1.0\" encoding=\"EUC-KR\" ?> with the unit 'ms', at position 0",
     "output_type": "error",
     "traceback": [
      "\u001b[0;31m---------------------------------------------------------------------------\u001b[0m",
      "\u001b[0;31mValueError\u001b[0m                                Traceback (most recent call last)",
      "File \u001b[0;32mtslib.pyx:316\u001b[0m, in \u001b[0;36mpandas._libs.tslib.array_with_unit_to_datetime\u001b[0;34m()\u001b[0m\n",
      "\u001b[0;31mValueError\u001b[0m: could not convert string to float: '<?xml version=\"1.0\" encoding=\"EUC-KR\" ?>'",
      "\nDuring handling of the above exception, another exception occurred:\n",
      "\u001b[0;31mValueError\u001b[0m                                Traceback (most recent call last)",
      "Cell \u001b[0;32mIn[12], line 13\u001b[0m\n\u001b[1;32m     10\u001b[0m     df \u001b[38;5;241m=\u001b[39m df\u001b[38;5;241m.\u001b[39mastype(\u001b[38;5;28mfloat\u001b[39m)\n\u001b[1;32m     11\u001b[0m     \u001b[38;5;28;01mreturn\u001b[39;00m df\n\u001b[0;32m---> 13\u001b[0m df \u001b[38;5;241m=\u001b[39m \u001b[43mstock_history\u001b[49m\u001b[43m(\u001b[49m\u001b[38;5;124;43m'\u001b[39;49m\u001b[38;5;124;43m005930\u001b[39;49m\u001b[38;5;124;43m'\u001b[39;49m\u001b[43m)\u001b[49m \u001b[38;5;66;03m# 삼성전자(005930)\u001b[39;00m\n\u001b[1;32m     14\u001b[0m df\n",
      "Cell \u001b[0;32mIn[12], line 8\u001b[0m, in \u001b[0;36mstock_history\u001b[0;34m(code)\u001b[0m\n\u001b[1;32m      6\u001b[0m data \u001b[38;5;241m=\u001b[39m [d\u001b[38;5;241m.\u001b[39msplit(\u001b[38;5;124m'\u001b[39m\u001b[38;5;124m|\u001b[39m\u001b[38;5;124m'\u001b[39m) \u001b[38;5;28;01mfor\u001b[39;00m d \u001b[38;5;129;01min\u001b[39;00m data \u001b[38;5;28;01mif\u001b[39;00m d]\n\u001b[1;32m      7\u001b[0m df \u001b[38;5;241m=\u001b[39m pd\u001b[38;5;241m.\u001b[39mDataFrame(data, columns\u001b[38;5;241m=\u001b[39m[\u001b[38;5;124m'\u001b[39m\u001b[38;5;124mdate\u001b[39m\u001b[38;5;124m'\u001b[39m, \u001b[38;5;124m'\u001b[39m\u001b[38;5;124mopen\u001b[39m\u001b[38;5;124m'\u001b[39m, \u001b[38;5;124m'\u001b[39m\u001b[38;5;124mhigh\u001b[39m\u001b[38;5;124m'\u001b[39m, \u001b[38;5;124m'\u001b[39m\u001b[38;5;124mlow\u001b[39m\u001b[38;5;124m'\u001b[39m, \u001b[38;5;124m'\u001b[39m\u001b[38;5;124mclose\u001b[39m\u001b[38;5;124m'\u001b[39m, \u001b[38;5;124m'\u001b[39m\u001b[38;5;124mvolume\u001b[39m\u001b[38;5;124m'\u001b[39m])\n\u001b[0;32m----> 8\u001b[0m df[\u001b[38;5;124m'\u001b[39m\u001b[38;5;124mdate\u001b[39m\u001b[38;5;124m'\u001b[39m] \u001b[38;5;241m=\u001b[39m \u001b[43mpd\u001b[49m\u001b[38;5;241;43m.\u001b[39;49m\u001b[43mto_datetime\u001b[49m\u001b[43m(\u001b[49m\u001b[43mdf\u001b[49m\u001b[43m[\u001b[49m\u001b[38;5;124;43m'\u001b[39;49m\u001b[38;5;124;43mdate\u001b[39;49m\u001b[38;5;124;43m'\u001b[39;49m\u001b[43m]\u001b[49m\u001b[43m,\u001b[49m\u001b[43m \u001b[49m\u001b[43munit\u001b[49m\u001b[38;5;241;43m=\u001b[39;49m\u001b[38;5;124;43m'\u001b[39;49m\u001b[38;5;124;43mms\u001b[39;49m\u001b[38;5;124;43m'\u001b[39;49m\u001b[43m)\u001b[49m\n\u001b[1;32m      9\u001b[0m df\u001b[38;5;241m.\u001b[39mset_index(\u001b[38;5;124m'\u001b[39m\u001b[38;5;124mdate\u001b[39m\u001b[38;5;124m'\u001b[39m, inplace\u001b[38;5;241m=\u001b[39m\u001b[38;5;28;01mTrue\u001b[39;00m)\n\u001b[1;32m     10\u001b[0m df \u001b[38;5;241m=\u001b[39m df\u001b[38;5;241m.\u001b[39mastype(\u001b[38;5;28mfloat\u001b[39m)\n",
      "File \u001b[0;32m/opt/homebrew/Caskroom/miniforge/base/envs/slackbot/lib/python3.11/site-packages/pandas/core/tools/datetimes.py:1063\u001b[0m, in \u001b[0;36mto_datetime\u001b[0;34m(arg, errors, dayfirst, yearfirst, utc, format, exact, unit, infer_datetime_format, origin, cache)\u001b[0m\n\u001b[1;32m   1061\u001b[0m             result \u001b[38;5;241m=\u001b[39m arg\u001b[38;5;241m.\u001b[39mtz_localize(\u001b[38;5;124m\"\u001b[39m\u001b[38;5;124mutc\u001b[39m\u001b[38;5;124m\"\u001b[39m)\n\u001b[1;32m   1062\u001b[0m \u001b[38;5;28;01melif\u001b[39;00m \u001b[38;5;28misinstance\u001b[39m(arg, ABCSeries):\n\u001b[0;32m-> 1063\u001b[0m     cache_array \u001b[38;5;241m=\u001b[39m \u001b[43m_maybe_cache\u001b[49m\u001b[43m(\u001b[49m\u001b[43marg\u001b[49m\u001b[43m,\u001b[49m\u001b[43m \u001b[49m\u001b[38;5;28;43mformat\u001b[39;49m\u001b[43m,\u001b[49m\u001b[43m \u001b[49m\u001b[43mcache\u001b[49m\u001b[43m,\u001b[49m\u001b[43m \u001b[49m\u001b[43mconvert_listlike\u001b[49m\u001b[43m)\u001b[49m\n\u001b[1;32m   1064\u001b[0m     \u001b[38;5;28;01mif\u001b[39;00m \u001b[38;5;129;01mnot\u001b[39;00m cache_array\u001b[38;5;241m.\u001b[39mempty:\n\u001b[1;32m   1065\u001b[0m         result \u001b[38;5;241m=\u001b[39m arg\u001b[38;5;241m.\u001b[39mmap(cache_array)\n",
      "File \u001b[0;32m/opt/homebrew/Caskroom/miniforge/base/envs/slackbot/lib/python3.11/site-packages/pandas/core/tools/datetimes.py:247\u001b[0m, in \u001b[0;36m_maybe_cache\u001b[0;34m(arg, format, cache, convert_listlike)\u001b[0m\n\u001b[1;32m    245\u001b[0m unique_dates \u001b[38;5;241m=\u001b[39m unique(arg)\n\u001b[1;32m    246\u001b[0m \u001b[38;5;28;01mif\u001b[39;00m \u001b[38;5;28mlen\u001b[39m(unique_dates) \u001b[38;5;241m<\u001b[39m \u001b[38;5;28mlen\u001b[39m(arg):\n\u001b[0;32m--> 247\u001b[0m     cache_dates \u001b[38;5;241m=\u001b[39m \u001b[43mconvert_listlike\u001b[49m\u001b[43m(\u001b[49m\u001b[43munique_dates\u001b[49m\u001b[43m,\u001b[49m\u001b[43m \u001b[49m\u001b[38;5;28;43mformat\u001b[39;49m\u001b[43m)\u001b[49m\n\u001b[1;32m    248\u001b[0m     \u001b[38;5;66;03m# GH#45319\u001b[39;00m\n\u001b[1;32m    249\u001b[0m     \u001b[38;5;28;01mtry\u001b[39;00m:\n",
      "File \u001b[0;32m/opt/homebrew/Caskroom/miniforge/base/envs/slackbot/lib/python3.11/site-packages/pandas/core/tools/datetimes.py:407\u001b[0m, in \u001b[0;36m_convert_listlike_datetimes\u001b[0;34m(arg, format, name, utc, unit, errors, dayfirst, yearfirst, exact)\u001b[0m\n\u001b[1;32m    405\u001b[0m     \u001b[38;5;28;01mif\u001b[39;00m \u001b[38;5;28mformat\u001b[39m \u001b[38;5;129;01mis\u001b[39;00m \u001b[38;5;129;01mnot\u001b[39;00m \u001b[38;5;28;01mNone\u001b[39;00m:\n\u001b[1;32m    406\u001b[0m         \u001b[38;5;28;01mraise\u001b[39;00m \u001b[38;5;167;01mValueError\u001b[39;00m(\u001b[38;5;124m\"\u001b[39m\u001b[38;5;124mcannot specify both format and unit\u001b[39m\u001b[38;5;124m\"\u001b[39m)\n\u001b[0;32m--> 407\u001b[0m     \u001b[38;5;28;01mreturn\u001b[39;00m \u001b[43m_to_datetime_with_unit\u001b[49m\u001b[43m(\u001b[49m\u001b[43marg\u001b[49m\u001b[43m,\u001b[49m\u001b[43m \u001b[49m\u001b[43munit\u001b[49m\u001b[43m,\u001b[49m\u001b[43m \u001b[49m\u001b[43mname\u001b[49m\u001b[43m,\u001b[49m\u001b[43m \u001b[49m\u001b[43mutc\u001b[49m\u001b[43m,\u001b[49m\u001b[43m \u001b[49m\u001b[43merrors\u001b[49m\u001b[43m)\u001b[49m\n\u001b[1;32m    408\u001b[0m \u001b[38;5;28;01melif\u001b[39;00m \u001b[38;5;28mgetattr\u001b[39m(arg, \u001b[38;5;124m\"\u001b[39m\u001b[38;5;124mndim\u001b[39m\u001b[38;5;124m\"\u001b[39m, \u001b[38;5;241m1\u001b[39m) \u001b[38;5;241m>\u001b[39m \u001b[38;5;241m1\u001b[39m:\n\u001b[1;32m    409\u001b[0m     \u001b[38;5;28;01mraise\u001b[39;00m \u001b[38;5;167;01mTypeError\u001b[39;00m(\n\u001b[1;32m    410\u001b[0m         \u001b[38;5;124m\"\u001b[39m\u001b[38;5;124marg must be a string, datetime, list, tuple, 1-d array, or Series\u001b[39m\u001b[38;5;124m\"\u001b[39m\n\u001b[1;32m    411\u001b[0m     )\n",
      "File \u001b[0;32m/opt/homebrew/Caskroom/miniforge/base/envs/slackbot/lib/python3.11/site-packages/pandas/core/tools/datetimes.py:526\u001b[0m, in \u001b[0;36m_to_datetime_with_unit\u001b[0;34m(arg, unit, name, utc, errors)\u001b[0m\n\u001b[1;32m    524\u001b[0m     \u001b[38;5;28;01melse\u001b[39;00m:\n\u001b[1;32m    525\u001b[0m         arg \u001b[38;5;241m=\u001b[39m arg\u001b[38;5;241m.\u001b[39mastype(\u001b[38;5;28mobject\u001b[39m, copy\u001b[38;5;241m=\u001b[39m\u001b[38;5;28;01mFalse\u001b[39;00m)\n\u001b[0;32m--> 526\u001b[0m         arr, tz_parsed \u001b[38;5;241m=\u001b[39m \u001b[43mtslib\u001b[49m\u001b[38;5;241;43m.\u001b[39;49m\u001b[43marray_with_unit_to_datetime\u001b[49m\u001b[43m(\u001b[49m\u001b[43marg\u001b[49m\u001b[43m,\u001b[49m\u001b[43m \u001b[49m\u001b[43munit\u001b[49m\u001b[43m,\u001b[49m\u001b[43m \u001b[49m\u001b[43merrors\u001b[49m\u001b[38;5;241;43m=\u001b[39;49m\u001b[43merrors\u001b[49m\u001b[43m)\u001b[49m\n\u001b[1;32m    528\u001b[0m \u001b[38;5;28;01mif\u001b[39;00m errors \u001b[38;5;241m==\u001b[39m \u001b[38;5;124m\"\u001b[39m\u001b[38;5;124mignore\u001b[39m\u001b[38;5;124m\"\u001b[39m:\n\u001b[1;32m    529\u001b[0m     \u001b[38;5;66;03m# Index constructor _may_ infer to DatetimeIndex\u001b[39;00m\n\u001b[1;32m    530\u001b[0m     result \u001b[38;5;241m=\u001b[39m Index\u001b[38;5;241m.\u001b[39m_with_infer(arr, name\u001b[38;5;241m=\u001b[39mname)\n",
      "File \u001b[0;32mtslib.pyx:344\u001b[0m, in \u001b[0;36mpandas._libs.tslib.array_with_unit_to_datetime\u001b[0;34m()\u001b[0m\n",
      "File \u001b[0;32mtslib.pyx:318\u001b[0m, in \u001b[0;36mpandas._libs.tslib.array_with_unit_to_datetime\u001b[0;34m()\u001b[0m\n",
      "\u001b[0;31mValueError\u001b[0m: non convertible value <?xml version=\"1.0\" encoding=\"EUC-KR\" ?> with the unit 'ms', at position 0"
     ]
    }
   ],
   "source": [
    "def stock_history(code: str):\n",
    "    print(f'stock_history({code}) calling')\n",
    "    url = f'https://fchart.stock.naver.com/sise.nhn?symbol={code}&timeframe=day&count=1000&requestType=0'\n",
    "    r = requests.get(url)\n",
    "    data = r.text.split('\\n')\n",
    "    data = [d.split('|') for d in data if d]\n",
    "    df = pd.DataFrame(data, columns=['date', 'open', 'high', 'low', 'close', 'volume'])\n",
    "    df['date'] = pd.to_datetime(df['date'], unit='ms')\n",
    "    df.set_index('date', inplace=True)\n",
    "    df = df.astype(float)\n",
    "    return df\n",
    "\n",
    "df = stock_history('005930') # 삼성전자(005930)\n",
    "df\n",
    "\n"
   ]
  },
  {
   "cell_type": "code",
   "execution_count": null,
   "metadata": {},
   "outputs": [],
   "source": []
  }
 ],
 "metadata": {
  "kernelspec": {
   "display_name": "slackbot",
   "language": "python",
   "name": "python3"
  },
  "language_info": {
   "codemirror_mode": {
    "name": "ipython",
    "version": 3
   },
   "file_extension": ".py",
   "mimetype": "text/x-python",
   "name": "python",
   "nbconvert_exporter": "python",
   "pygments_lexer": "ipython3",
   "version": "3.11.8"
  }
 },
 "nbformat": 4,
 "nbformat_minor": 2
}
